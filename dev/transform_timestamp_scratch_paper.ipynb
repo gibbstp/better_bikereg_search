{
 "cells": [
  {
   "cell_type": "markdown",
   "metadata": {},
   "source": [
    "# Convert time stamp to time-date"
   ]
  },
  {
   "cell_type": "code",
   "execution_count": 2,
   "metadata": {},
   "outputs": [],
   "source": [
    "import datetime\n",
    "import re"
   ]
  },
  {
   "cell_type": "code",
   "execution_count": 3,
   "metadata": {},
   "outputs": [
    {
     "name": "stdout",
     "output_type": "stream",
     "text": [
      "2023-10-31 04:00:00\n"
     ]
    }
   ],
   "source": [
    "event_start_date_string = '/Date(1698724800000-0400)/'\n",
    "event_end_date_string = '/Date(1698724800000-0400)/'\n",
    "\n",
    "time_start_milliseconds, start_time_zone = re.split(r'[()]', event_start_date_string)[1].split(\"-\")\n",
    "time_end_milliseconds, end_time_zone = re.split(r'[()]', event_end_date_string)[1].split(\"-\")\n",
    "\n",
    "start_date = datetime.datetime.fromtimestamp(int(time_start_milliseconds) / 1000)\n",
    "\n",
    "print(start_date)"
   ]
  },
  {
   "cell_type": "code",
   "execution_count": null,
   "metadata": {},
   "outputs": [],
   "source": []
  }
 ],
 "metadata": {
  "kernelspec": {
   "display_name": "Python 3",
   "language": "python",
   "name": "python3"
  },
  "language_info": {
   "codemirror_mode": {
    "name": "ipython",
    "version": 3
   },
   "file_extension": ".py",
   "mimetype": "text/x-python",
   "name": "python",
   "nbconvert_exporter": "python",
   "pygments_lexer": "ipython3",
   "version": "3.11.6"
  }
 },
 "nbformat": 4,
 "nbformat_minor": 2
}
